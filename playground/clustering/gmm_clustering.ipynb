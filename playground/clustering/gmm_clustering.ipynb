{
 "cells": [
  {
   "cell_type": "code",
   "execution_count": null,
   "metadata": {
    "vscode": {
     "languageId": "plaintext"
    }
   },
   "outputs": [],
   "source": [
    "! pip install torch-geometric"
   ]
  },
  {
   "cell_type": "code",
   "execution_count": null,
   "metadata": {
    "vscode": {
     "languageId": "plaintext"
    }
   },
   "outputs": [],
   "source": [
    "# load train dataset\n",
    "train_dataset = LRGBDataset(root='data/LRGBDataset', name='Peptides-struct', split='train')"
   ]
  },
  {
   "cell_type": "code",
   "execution_count": null,
   "metadata": {
    "vscode": {
     "languageId": "plaintext"
    }
   },
   "outputs": [],
   "source": [
    "# Node-level clustering\n",
    "## apply gaussian mixture models on train dataset\n",
    "import torch\n",
    "from sklearn.mixture import GaussianMixture\n",
    "from torch_geometric.nn.pool import max_pool\n",
    "\n",
    "cluster_graphs = []\n",
    "labels_list = []\n",
    "for data in train_dataset:\n",
    "    n_clusters = 3 \n",
    "    gmm = GaussianMixture(n_components=n_clusters, random_state=42)\n",
    "    \n",
    "    node_features = data.x.detach().cpu().numpy() # convert to numpy array    \n",
    "    gmm_labels = gmm.fit_predict(node_features)\n",
    "    tensor_labels = torch.from_numpy(gmm_labels).long() # convert to tensor\n",
    "    \n",
    "    # Ensure edge_index and cluster labels are contiguous\n",
    "    tensor_labels = tensor_labels.contiguous()\n",
    "    data.edge_index = data.edge_index.contiguous()\n",
    "    \n",
    "    # Apply max pooling\n",
    "    cluster_graph = max_pool(tensor_labels, data, transform=None)\n",
    "    \n",
    "    # Store results\n",
    "    cluster_graphs.append(cluster_graph)\n",
    "    labels_list.append(tensor_labels)"
   ]
  }
 ],
 "metadata": {
  "language_info": {
   "name": "python"
  }
 },
 "nbformat": 4,
 "nbformat_minor": 2
}
