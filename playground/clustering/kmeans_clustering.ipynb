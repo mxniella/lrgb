{
 "cells": [
  {
   "cell_type": "code",
   "execution_count": null,
   "metadata": {
    "vscode": {
     "languageId": "plaintext"
    }
   },
   "outputs": [],
   "source": [
    "# peptides struct is used for graph regression\n",
    "# we aim to predict aggregated 3D properties of the peptides at the graph level\n",
    "# we have 11 tasks to predict\n",
    "# the graphs have avg. num nodes 150.94 and avg. num edges 307.30\n",
    "# should contain 15,535 graphs"
   ]
  },
  {
   "cell_type": "code",
   "execution_count": null,
   "metadata": {
    "vscode": {
     "languageId": "plaintext"
    }
   },
   "outputs": [],
   "source": [
    "! pip install torch-geometric"
   ]
  },
  {
   "cell_type": "code",
   "execution_count": null,
   "metadata": {
    "vscode": {
     "languageId": "plaintext"
    }
   },
   "outputs": [],
   "source": [
    "# Visualize dataset\n",
    "import torch\n",
    "from torch_geometric.datasets import LRGBDataset\n",
    "\n",
    "dataset = LRGBDataset(root='data/LRGBDataset', name='Peptides-struct')\n",
    "print(dataset)\n",
    "print(f\"Number of graphs {len(dataset)}\")\n",
    "#10873 graphs"
   ]
  },
  {
   "cell_type": "code",
   "execution_count": null,
   "metadata": {
    "vscode": {
     "languageId": "plaintext"
    }
   },
   "outputs": [],
   "source": [
    "# load train dataset\n",
    "train_dataset = LRGBDataset(root='data/LRGBDataset', name='Peptides-struct', split='train')"
   ]
  },
  {
   "cell_type": "code",
   "execution_count": null,
   "metadata": {
    "vscode": {
     "languageId": "plaintext"
    }
   },
   "outputs": [],
   "source": [
    "# Analyzing the graphs\n",
    "for data in train_dataset:\n",
    "    pass\n",
    "    #print(data)\n",
    "    #Data(x=[338, 9], edge_index=[2, 682], edge_attr=[682, 3], y=[1, 11])\n",
    "    #x: 338 nodes with a 9 dim. feature vector\n",
    "    #edge_index: 682 edges represented as pairs of node indices\n",
    "    #edge_attr: 682 edges have a 3 dim. feature vector\n",
    "    #y: 11 output tasks"
   ]
  },
  {
   "cell_type": "code",
   "execution_count": null,
   "metadata": {
    "vscode": {
     "languageId": "plaintext"
    }
   },
   "outputs": [],
   "source": [
    "# Node-Level Clustering\n",
    "## apply Kmeans clustering on the train_dataset\n",
    "import warnings\n",
    "from sklearn.cluster import KMeans\n",
    "from torch_geometric.nn.pool import max_pool\n",
    "\n",
    "warnings.filterwarnings(\"ignore\", category=FutureWarning)\n",
    "\n",
    "cluster_graphs = []\n",
    "labels_list = []\n",
    "for data in train_dataset:\n",
    "    n_clusters = 3 \n",
    "    kmeans = KMeans(n_clusters=n_clusters, random_state=42)\n",
    "\n",
    "    node_features = data.x.detach().cpu().numpy() # convert to numpy array\n",
    "    labels = kmeans.fit_predict(node_features) # index of the cluster each sample belongs to\n",
    "    tensor_labels = torch.from_numpy(labels).long() # convert to tensor\n",
    "\n",
    "    # ensure tensor_labels and edge_index are contiguous\n",
    "    tensor_labels = tensor_labels.contiguous()\n",
    "    data.edge_index = data.edge_index.contiguous()\n",
    "\n",
    "    # shrink graph based on clustering\n",
    "    cluster_graph = max_pool(tensor_labels, data, transform=None)\n",
    "    print(cluster_graph)\n",
    "\n",
    "    cluster_graphs.append(cluster_graph)\n",
    "    labels_list.append(tensor_labels)"
   ]
  }
 ],
 "metadata": {
  "language_info": {
   "name": "python"
  }
 },
 "nbformat": 4,
 "nbformat_minor": 2
}
